{
 "cells": [
  {
   "cell_type": "code",
   "execution_count": 5,
   "id": "a4253279-8420-4b56-a4f0-141afd68054b",
   "metadata": {},
   "outputs": [],
   "source": [
    "import pandas as pd\n",
    "import numpy as np"
   ]
  },
  {
   "cell_type": "code",
   "execution_count": 6,
   "id": "63dfc675-49c1-4aff-a7ed-d5790da8581b",
   "metadata": {},
   "outputs": [],
   "source": [
    "project_data = {\n",
    "    'ID': ['A001', 'A002', 'A003', 'A004', 'A005', 'A002', 'A005', 'A003', 'A001', 'A003', 'A001', 'A004', 'A004', 'A005'],\n",
    "    'Project': ['Project 1', 'Project 2', 'Project 3', 'Project 4', 'Project 5', 'Project 6', 'Project 7', 'Project 8', 'Project 9', 'Project 10', 'Project 11', 'Project 12', 'Project 13', 'Project 14'],\n",
    "    'Cost': [1002000, 2000000, 4500000, 5500000, None, 680000, 400000, 350000, None, 300000, 2000000, 1000000, 3000000, 200000],\n",
    "    'Status': ['Finished', 'Ongoing', 'Finished', 'Ongoing', 'Finished', 'Failed', 'Finished', 'Failed', 'Ongoing', 'Finished', 'Failed', 'Ongoing', 'Finished', 'Finished']\n",
    "}\n",
    "project_df = pd.DataFrame(project_data)"
   ]
  },
  {
   "cell_type": "code",
   "execution_count": 10,
   "id": "0cbb35cc-4db1-488d-8e9b-6f967aa732e4",
   "metadata": {},
   "outputs": [],
   "source": [
    "#Project DataFrame"
   ]
  },
  {
   "cell_type": "code",
   "execution_count": 7,
   "id": "26f4dd8a-1d48-4e38-90fe-f02e994da281",
   "metadata": {},
   "outputs": [],
   "source": [
    "project_df.to_csv('project.csv', index=False)"
   ]
  },
  {
   "cell_type": "code",
   "execution_count": 8,
   "id": "8e8799a1-7ba0-4438-9570-588116548675",
   "metadata": {},
   "outputs": [],
   "source": [
    "employee_data = {\n",
    "    'ID': ['A001', 'A002', 'A003', 'A004', 'A005'],\n",
    "    'Name': ['John Alter', 'Alice Luxumberg', 'Tom Sabestine', 'Nina Adgra', 'Amy Johny'],\n",
    "    'Gender': ['M', 'F', 'M', 'F', 'F'],\n",
    "    'City': ['Paris', 'London', 'Berlin', 'Newyork', 'Madrid'],\n",
    "    'Age': [25, 27, 29, 31, 30]\n",
    "}\n",
    "employee_df = pd.DataFrame(employee_data)"
   ]
  },
  {
   "cell_type": "code",
   "execution_count": 11,
   "id": "7f6ff124-a869-40c8-83a0-1dc1d8fc87d4",
   "metadata": {},
   "outputs": [],
   "source": [
    "# Employee DataFrame"
   ]
  },
  {
   "cell_type": "code",
   "execution_count": 9,
   "id": "e77f9c0a-7a34-417f-a040-cd4d8132a610",
   "metadata": {},
   "outputs": [],
   "source": [
    "employee_df.to_csv('employee.csv', index=False)"
   ]
  },
  {
   "cell_type": "code",
   "execution_count": 10,
   "id": "d592400a-8279-4b67-bb76-83ae767f7b78",
   "metadata": {},
   "outputs": [],
   "source": [
    "seniority_data = {\n",
    "    'ID': ['A001', 'A002', 'A003', 'A004', 'A005'],\n",
    "    'Designation Level': [2, 2, 3, 2, 3]\n",
    "}\n",
    "seniority_df = pd.DataFrame(seniority_data)"
   ]
  },
  {
   "cell_type": "code",
   "execution_count": 12,
   "id": "e4fc44ba-0190-4270-a76a-8948aa8a43f3",
   "metadata": {},
   "outputs": [],
   "source": [
    "# Seniority Level DataFrame"
   ]
  },
  {
   "cell_type": "code",
   "execution_count": 11,
   "id": "5469fedf-5d7c-40a0-a748-e17805c380b4",
   "metadata": {},
   "outputs": [],
   "source": [
    "seniority_df.to_csv('seniority.csv', index=False)"
   ]
  },
  {
   "cell_type": "code",
   "execution_count": 13,
   "id": "58cd145c-32d1-450b-a294-415b64a41ff1",
   "metadata": {},
   "outputs": [],
   "source": [
    "# Read project data"
   ]
  },
  {
   "cell_type": "code",
   "execution_count": 12,
   "id": "176136f3-c5bb-473d-8699-75334ebc0ddf",
   "metadata": {},
   "outputs": [],
   "source": [
    "project_df = pd.read_csv('project.csv')"
   ]
  },
  {
   "cell_type": "code",
   "execution_count": 13,
   "id": "abb1b4ce-348a-4152-b52e-1c59b854b890",
   "metadata": {},
   "outputs": [],
   "source": [
    "# Calculate running average\n",
    "\n",
    "running_avg = []\n",
    "sum_cost = 0\n",
    "count = 0"
   ]
  },
  {
   "cell_type": "code",
   "execution_count": 14,
   "id": "36072d16-5216-4795-9b64-18aeccbd1818",
   "metadata": {},
   "outputs": [],
   "source": [
    "for i, row in project_df.iterrows():\n",
    "    if not pd.isna(row['Cost']):\n",
    "        sum_cost += row['Cost']\n",
    "        count += 1\n",
    "        running_avg.append(row['Cost'])\n",
    "    else:\n",
    "        if count > 0:\n",
    "            avg = sum_cost / count\n",
    "            project_df.at[i, 'Cost'] = avg\n",
    "            running_avg.append(avg)\n",
    "        else:\n",
    "            running_avg.append(0)"
   ]
  },
  {
   "cell_type": "code",
   "execution_count": 15,
   "id": "9ec7b5cb-3a9a-489f-bb0c-fe59a9e57463",
   "metadata": {},
   "outputs": [],
   "source": [
    "project_df.to_csv('project.csv', index=False)"
   ]
  },
  {
   "cell_type": "code",
   "execution_count": 16,
   "id": "20594a81-aef8-4290-ab73-914b824100c8",
   "metadata": {},
   "outputs": [],
   "source": [
    "# Read employee data\n",
    "\n",
    "employee_df = pd.read_csv('employee.csv')"
   ]
  },
  {
   "cell_type": "code",
   "execution_count": 19,
   "id": "7e07c23f-6348-42c5-bd13-d3f1cc9a1cdc",
   "metadata": {},
   "outputs": [],
   "source": [
    "# Split name into first and last name"
   ]
  },
  {
   "cell_type": "code",
   "execution_count": 17,
   "id": "5c82a45a-1fc1-4150-a5b1-fed54f124cb0",
   "metadata": {},
   "outputs": [],
   "source": [
    "employee_df[['First Name', 'Last Name']] = employee_df['Name'].str.split(' ', expand=True)"
   ]
  },
  {
   "cell_type": "code",
   "execution_count": 18,
   "id": "2a6cd301-d4a3-4c14-ab99-3343dfd3ff51",
   "metadata": {},
   "outputs": [],
   "source": [
    "# Drop original name column\n",
    "\n",
    "employee_df.drop('Name', axis=1, inplace=True)"
   ]
  },
  {
   "cell_type": "code",
   "execution_count": 19,
   "id": "3b9bf235-08d0-44ef-b983-aa77aab8a4af",
   "metadata": {},
   "outputs": [],
   "source": [
    "# Save updated dataframe\n",
    "\n",
    "employee_df.to_csv('employee.csv', index=False)"
   ]
  },
  {
   "cell_type": "code",
   "execution_count": 20,
   "id": "d44060ad-4ac8-4398-9800-46e86df7fb2f",
   "metadata": {},
   "outputs": [],
   "source": [
    "# Merge employee and seniority data\n",
    "\n",
    "merged_df = pd.merge(employee_df, seniority_df, on='ID')"
   ]
  },
  {
   "cell_type": "code",
   "execution_count": 21,
   "id": "c08272fa-98c0-4a4a-ad4c-638a4f741266",
   "metadata": {},
   "outputs": [],
   "source": [
    "# Merge with project data\n",
    "\n",
    "final_df = pd.merge(merged_df, project_df, on='ID')"
   ]
  },
  {
   "cell_type": "code",
   "execution_count": 22,
   "id": "fdd9ec0b-98ba-4c09-8b0f-48a40d8db7fe",
   "metadata": {},
   "outputs": [],
   "source": [
    "# Save final dataframe\n",
    "\n",
    "final_df.to_csv('final.csv', index=False)"
   ]
  },
  {
   "cell_type": "code",
   "execution_count": 24,
   "id": "75003b3a-2482-42a6-ac04-571cbf6e8ed9",
   "metadata": {},
   "outputs": [],
   "source": [
    "# Add bonus column (5% of cost for finished projects)\n",
    "\n",
    "final_df['Bonus'] = np.where(final_df['Status'] == 'Finished', \n",
    "                            final_df['Cost'] * 0.05, \n",
    "                            0)"
   ]
  },
  {
   "cell_type": "code",
   "execution_count": 25,
   "id": "6be3a77f-d6a0-44ea-8dd7-9178a5940d55",
   "metadata": {},
   "outputs": [],
   "source": [
    "final_df.to_csv('final.csv', index=False)"
   ]
  },
  {
   "cell_type": "code",
   "execution_count": 27,
   "id": "3c11bc8e-752b-4bba-a8a2-f565384dcd79",
   "metadata": {},
   "outputs": [],
   "source": [
    "# Decrease designation level for failed projects\n",
    "\n",
    "final_df.loc[final_df['Status'] == 'Failed', 'Designation Level'] -= 1\n"
   ]
  },
  {
   "cell_type": "code",
   "execution_count": 28,
   "id": "5a1b2349-62a9-417a-988e-152928a0b453",
   "metadata": {},
   "outputs": [],
   "source": [
    "# Remove employees with designation level > 4\n",
    "\n",
    "final_df = final_df[final_df['Designation Level'] <= 4]"
   ]
  },
  {
   "cell_type": "code",
   "execution_count": 30,
   "id": "afe8ec04-2855-442f-8e17-96c6f23305c9",
   "metadata": {},
   "outputs": [],
   "source": [
    "# Save updated dataframe\n",
    "\n",
    "final_df.to_csv('final.csv', index=False)"
   ]
  },
  {
   "cell_type": "code",
   "execution_count": 31,
   "id": "483ef9d8-1856-4cdc-8eab-d2f0dca8112f",
   "metadata": {},
   "outputs": [],
   "source": [
    "# Add Mr./Mrs. prefix\n",
    "\n",
    "final_df['First Name'] = np.where(final_df['Gender'] == 'M',\n",
    "                                 'Mr. ' + final_df['First Name'],\n",
    "                                 'Mrs. ' + final_df['First Name'])"
   ]
  },
  {
   "cell_type": "code",
   "execution_count": 32,
   "id": "baef4391-6aef-4fd6-8eae-918a28e48c58",
   "metadata": {},
   "outputs": [],
   "source": [
    "# Drop gender column\n",
    "\n",
    "final_df.drop('Gender', axis=1, inplace=True)"
   ]
  },
  {
   "cell_type": "code",
   "execution_count": 33,
   "id": "61df8175-99a5-4066-941a-a8457778eadd",
   "metadata": {},
   "outputs": [],
   "source": [
    "final_df.to_csv('final.csv', index=False)"
   ]
  },
  {
   "cell_type": "code",
   "execution_count": 34,
   "id": "0241c34c-bb7d-4bd8-8683-1ff96658b295",
   "metadata": {},
   "outputs": [],
   "source": [
    "# Promote designation level for employees over 29\n",
    "\n",
    "final_df.loc[final_df['Age'] > 29, 'Designation Level'] += 1"
   ]
  },
  {
   "cell_type": "code",
   "execution_count": 35,
   "id": "cff719ea-30f3-4697-9450-a8e15973b085",
   "metadata": {},
   "outputs": [],
   "source": [
    "final_df['Designation Level'] = np.where(final_df['Designation Level'] > 4, \n",
    "                                       4, \n",
    "                                       final_df['Designation Level'])"
   ]
  },
  {
   "cell_type": "code",
   "execution_count": 36,
   "id": "ca53fc51-4e9a-4289-a4ae-72e7b56d3b0b",
   "metadata": {},
   "outputs": [],
   "source": [
    "final_df.to_csv('final.csv', index=False)"
   ]
  },
  {
   "cell_type": "code",
   "execution_count": 37,
   "id": "5bda6b1e-866c-41b4-8de4-8202109b708b",
   "metadata": {},
   "outputs": [],
   "source": [
    "# Group by employee and sum project costs\n",
    "\n",
    "total_cost_df = final_df.groupby(['ID', 'First Name'])['Cost'].sum().reset_index()\n",
    "total_cost_df.columns = ['ID', 'First Name', 'Total Cost']"
   ]
  },
  {
   "cell_type": "code",
   "execution_count": 38,
   "id": "8ed648c2-e23f-403f-a0c4-63fceb74285e",
   "metadata": {},
   "outputs": [],
   "source": [
    "# Save new dataframe\n",
    "\n",
    "total_cost_df.to_csv('TotalProjCost.csv', index=False)"
   ]
  },
  {
   "cell_type": "code",
   "execution_count": 39,
   "id": "b11e533f-2ddb-45e5-bd01-535adea06903",
   "metadata": {},
   "outputs": [],
   "source": [
    "# Filter employees where city contains 'o'\n",
    "\n",
    "filtered_employees = final_df[final_df['City'].str.contains('o', case=False)]"
   ]
  },
  {
   "cell_type": "code",
   "execution_count": 40,
   "id": "392ac3d3-bf1f-498f-813b-e5c24ff30118",
   "metadata": {},
   "outputs": [
    {
     "name": "stdout",
     "output_type": "stream",
     "text": [
      "      ID  First Name  Last Name     City\n",
      "3   A002  Mrs. Alice  Luxumberg   London\n",
      "4   A002  Mrs. Alice  Luxumberg   London\n",
      "8   A004   Mrs. Nina      Adgra  Newyork\n",
      "9   A004   Mrs. Nina      Adgra  Newyork\n",
      "10  A004   Mrs. Nina      Adgra  Newyork\n"
     ]
    }
   ],
   "source": [
    "print(filtered_employees[['ID', 'First Name', 'Last Name', 'City']])"
   ]
  },
  {
   "cell_type": "code",
   "execution_count": null,
   "id": "99169d30-971d-4f85-a72c-9c39df181983",
   "metadata": {},
   "outputs": [],
   "source": []
  },
  {
   "cell_type": "code",
   "execution_count": null,
   "id": "fbe30804-5243-4238-abb0-973e2ee18ddb",
   "metadata": {},
   "outputs": [],
   "source": []
  }
 ],
 "metadata": {
  "kernelspec": {
   "display_name": "Python [conda env:base] *",
   "language": "python",
   "name": "conda-base-py"
  },
  "language_info": {
   "codemirror_mode": {
    "name": "ipython",
    "version": 3
   },
   "file_extension": ".py",
   "mimetype": "text/x-python",
   "name": "python",
   "nbconvert_exporter": "python",
   "pygments_lexer": "ipython3",
   "version": "3.12.7"
  }
 },
 "nbformat": 4,
 "nbformat_minor": 5
}
